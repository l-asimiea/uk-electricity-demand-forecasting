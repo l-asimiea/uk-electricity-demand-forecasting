{
 "cells": [
  {
   "cell_type": "markdown",
   "metadata": {},
   "source": [
    "#  Electricity Demand Analysis and Forecasting \n"
   ]
  },
  {
   "cell_type": "markdown",
   "metadata": {},
   "source": [
    "**Notebook-wide Libraries & Setting**s "
   ]
  },
  {
   "cell_type": "code",
   "execution_count": null,
   "metadata": {},
   "outputs": [],
   "source": [
    "import warnings\n",
    "warnings.filterwarnings('ignore')"
   ]
  },
  {
   "cell_type": "code",
   "execution_count": null,
   "metadata": {},
   "outputs": [],
   "source": [
    "%load_ext autoreload\n",
    "%autoreload 2\n",
    "\n",
    "import pandas as pd\n",
    "import numpy as  np\n",
    "import datetime \n",
    "\n",
    "# path setup\n",
    "import sys\n",
    "import os\n",
    "sys.path.append(os.path.abspath('../'))\n",
    "\n",
    "# project utils imports\n",
    "import plotly.express as px \n",
    "import plotly.io as pio\n",
    "from src.visualisation.plot_utils import plotly_user_standard_settings\n",
    "plotly_user_standard_settings(pio,px)"
   ]
  },
  {
   "cell_type": "markdown",
   "metadata": {},
   "source": [
    "\n",
    "## Part 1: Data Processing\n"
   ]
  },
  {
   "cell_type": "code",
   "execution_count": null,
   "metadata": {},
   "outputs": [],
   "source": [
    "from src.data.make_dataset import read_and_proc_csvdata"
   ]
  },
  {
   "cell_type": "markdown",
   "metadata": {},
   "source": [
    "**Load Raw Data**"
   ]
  },
  {
   "cell_type": "code",
   "execution_count": null,
   "metadata": {},
   "outputs": [],
   "source": [
    "df = pd.read_csv(\"../data/raw/uk_electricity_consumption_historic_demand_2009_2024.csv\")\n",
    "df.head(5)"
   ]
  },
  {
   "cell_type": "markdown",
   "metadata": {},
   "source": [
    "**Data Description:**<br>\n",
    "See the README.md for full details on the dataset. \n",
    "The important columns considered in the project include:\n",
    "- settlement_date and settlement_period\n",
    "- nd and tsd\n",
    "- england_wales_demand\n",
    "- embedded_wind and solar generations\n",
    "- embedded_wind and solar capacities\n",
    "- is_holiday"
   ]
  },
  {
   "cell_type": "markdown",
   "metadata": {},
   "source": [
    "**Data Processing**"
   ]
  },
  {
   "cell_type": "code",
   "execution_count": null,
   "metadata": {},
   "outputs": [],
   "source": [
    "file_path = \"../data/raw/uk_electricity_consumption_historic_demand_2009_2024.csv\"\n",
    "proc_df = read_and_proc_csvdata(file_path)"
   ]
  },
  {
   "cell_type": "markdown",
   "metadata": {},
   "source": [
    "---------------------------------------------------------------------"
   ]
  },
  {
   "cell_type": "markdown",
   "metadata": {},
   "source": [
    "## Part 2: Exploratory Data Analysis \n",
    "\n",
    "This involves an analysis to obtain insights from historical electricity demand and generation based on the following questions:\n",
    "1. Statistical outlook of the historical data?\n",
    "2. What is the historical electricity demand (tsd) trend? \n",
    "3. What is the percentage of demand that is met by the total generation?\n",
    "4. What is the solar-wind mix from generation over time?\n",
    "5. What is the generation utilisation from each source?"
   ]
  },
  {
   "cell_type": "code",
   "execution_count": null,
   "metadata": {},
   "outputs": [],
   "source": [
    "# 1. Plot raw demand \n",
    "raw_demand_plot = px.line(proc_df,\n",
    "              x='date',\n",
    "              y=['nd','tsd'],\n",
    "              title='National vs Transmission Systems Electricity Demand over Time'\n",
    "              ).update_layout(\n",
    "                  xaxis_title='DateTime',\n",
    "                  yaxis_title='Demand (MW)',\n",
    "                  legend_title='Demand Type'\n",
    "              )\n",
    "raw_demand_plot.show()\n",
    "#demand_plot.write_html(saving_path + \"ND_and_TSD.html\")  \n"
   ]
  },
  {
   "cell_type": "code",
   "execution_count": null,
   "metadata": {},
   "outputs": [],
   "source": []
  },
  {
   "cell_type": "code",
   "execution_count": null,
   "metadata": {},
   "outputs": [],
   "source": [
    "#proc_df.info()\n",
    "\n",
    "# Check periods are no more than 48 (i.e., no more than 2 datapoints captured per hour)\n",
    "#print(proc_df[proc_df['period']>48]['date'])   \n",
    "\n",
    "proc_df_stats = proc_df.describe()  \n",
    "proc_df_stats   \n"
   ]
  },
  {
   "cell_type": "code",
   "execution_count": null,
   "metadata": {},
   "outputs": [],
   "source": [
    "print(f\"Average Transmission Demand (TSD) is {round(proc_df_stats['tsd'][1],1)}MW\")\n",
    "print(f\"Variation in Transmission Demand (TSD) is {round(proc_df_stats['tsd'][7],1)}MW\")"
   ]
  },
  {
   "cell_type": "markdown",
   "metadata": {},
   "source": [
    "**Statistical Outlook:**<br>\n",
    "1. There is a presence of outliers in tsd before Januray 2013\n",
    "2. There is more than 2 datapoints captured per hour in October of every year\n",
    "3. TSD exhibits a downward trend over time, indicating reducing electricity demand\n",
    "\n",
    "**Action:**<br>\n",
    "- Remove outliers and periods with more than 2 datapoints."
   ]
  },
  {
   "cell_type": "code",
   "execution_count": null,
   "metadata": {},
   "outputs": [],
   "source": [
    "df_flt = proc_df.query('tsd>10000').copy() \n",
    "df_flt.drop(index=df_flt[df_flt[\"period\"] > 48].index, inplace=True)\n",
    "df_flt.reset_index(drop=True, inplace=True)\n",
    "#df_flt.head(5)\n",
    "\n",
    "df_flt[\"period_hour\"] = (df_flt[\"period\"]).apply(\n",
    "    lambda x: str(datetime.timedelta(hours=(x - 1) * 0.5)))\n",
    "df_flt['date'] = pd.to_datetime(df_flt['date']) + pd.to_timedelta(df_flt['period_hour'])\n",
    "df_flt.head(5)\n",
    "df_flt.info()"
   ]
  },
  {
   "cell_type": "code",
   "execution_count": null,
   "metadata": {},
   "outputs": [],
   "source": [
    "df_01_08_2016 = df_flt.loc[(df_flt['date'] > \"01-01-2016\") & (df_flt['date'] < \"01-08-2016\")]\n",
    "px.line(df_01_08_2016, x='date', y='tsd')"
   ]
  },
  {
   "cell_type": "markdown",
   "metadata": {},
   "source": [
    "**TSD Distribution of TSD by Hour**"
   ]
  },
  {
   "cell_type": "code",
   "execution_count": null,
   "metadata": {},
   "outputs": [],
   "source": [
    "df_flt['hour'] = df_flt['period_hour'].str.split(\":\").str[0].astype(int)\n",
    "\n",
    "#Box plot\n",
    "fig = px.box(df_flt, x='hour', y='tsd', title= \"Distribution of TSD by Hour\",\n",
    "             labels={'hour': 'Hour', 'tsd':'TSD'}, category_orders={'hour': list(range(24))})\n",
    "fig.show()"
   ]
  },
  {
   "cell_type": "markdown",
   "metadata": {},
   "source": [
    "**Notes:**<br>\n",
    "Hourly TSD distribution shows that:\n",
    "1. There is higher demand from 7:00 to 21:00, which is when most daily activity occurs. This period also has larger demand ranges. \n",
    "2. The periods outside 7:00 to 21:00 also exhibited more outliers, indicating the sparse days in which there was higher than usual demand. \n"
   ]
  },
  {
   "cell_type": "code",
   "execution_count": null,
   "metadata": {},
   "outputs": [],
   "source": [
    "#---------------------------------------------------------------------------------------\n",
    "## \n",
    "saving_path = \"../../reports/figures/\"\n"
   ]
  },
  {
   "cell_type": "code",
   "execution_count": null,
   "metadata": {},
   "outputs": [],
   "source": [
    "\n",
    "# 2. Plot demand excluding outliers\n",
    "demand_flt_plot = px.line(df_flt,\n",
    "              x='date',\n",
    "              y=['nd','tsd'],\n",
    "              title='National vs Transmission Systems Electricity Demand over Time'\n",
    "              ).update_layout(\n",
    "                  xaxis_title='DateTime',\n",
    "                  yaxis_title='Demand (MW)',\n",
    "                  legend_title='Demand Type'\n",
    "              )\n",
    "demand_flt_plot.show()\n",
    "#demand_flt_plot.write_html(saving_path + \"ND_and_TSD_without_outliers.html\")  \n"
   ]
  },
  {
   "cell_type": "code",
   "execution_count": null,
   "metadata": {},
   "outputs": [],
   "source": [
    "\n",
    "# 3. Plot Total Generation vs TSD \n",
    "df_flt['total_generation'] = df_flt['solar_generation'] + df_flt['wind_generation']\n",
    "demand_vs_gen_plot = px.line(df_flt,\n",
    "              x='date',\n",
    "              y=['tsd', 'total_generation'],\n",
    "              title='Transmission System Demand vs Total Generation over time'\n",
    "              ).update_layout(\n",
    "                  xaxis_title='DateTime',\n",
    "                  yaxis_title='Megawatts',\n",
    "                  legend_title='Type'\n",
    "              )\n",
    "demand_vs_gen_plot.show()\n",
    "#demand_vs_gen_plot.write_html(saving_path + \"TSD_vs_generation.html\")  "
   ]
  },
  {
   "cell_type": "markdown",
   "metadata": {},
   "source": [
    "1. Over time, as TSD reduces, total generation from solar and wind increases. <br>\n",
    "2. From the earlier image, ND and TSD exhibit downward trends over time. In addition, the tsd peak to peak also reduces over time, indicating reducing electricity demands. <br>"
   ]
  },
  {
   "cell_type": "code",
   "execution_count": null,
   "metadata": {},
   "outputs": [],
   "source": [
    "# 3.1 Plot Total Generation vs TSD as percentage \n",
    "df_flt['gen_to_demand_ratio'] = (df_flt['total_generation']/df_flt['tsd'])*100\n",
    "gen_to_demand_ratio = px.line(df_flt,\n",
    "              x='date',\n",
    "              y=['gen_to_demand_ratio'],\n",
    "              title='Total Generation to Transmission System Demand Ratio'\n",
    "              ).update_layout(\n",
    "                  xaxis_title='DateTime',\n",
    "                  yaxis_title='Generation to Demand (%)',\n",
    "                  \n",
    "              )\n",
    "gen_to_demand_ratio.show()\n",
    "#gen_to_demand_ratio.write_html(saving_path + \"gen_to_demand_ratio.html\")  "
   ]
  },
  {
   "cell_type": "markdown",
   "metadata": {},
   "source": [
    "1. Solar and wind genenration combined contributed to over 20% of TSD from\n",
    "2015 onwards, indicating the beginning of considerable contributions to UK electricity demand. \n",
    "2. In 2024, combined solar and wind contributions peaked at 71% of TSD. "
   ]
  },
  {
   "cell_type": "code",
   "execution_count": null,
   "metadata": {},
   "outputs": [],
   "source": [
    "# 4. Plot of % contribution \n",
    "df_flt['year'] = df_flt['date'].dt.year\n",
    "\n",
    "yearly_df_flt = df_flt.groupby('year').agg({\n",
    "    'wind_generation':'sum',\n",
    "    'solar_generation':'sum'}).reset_index()\n",
    "yearly_df_flt['total_generation'] = yearly_df_flt['wind_generation']+yearly_df_flt['solar_generation']\n",
    "yearly_df_flt['wind_contribution'] = (yearly_df_flt['wind_generation']/yearly_df_flt['total_generation'])*100\n",
    "yearly_df_flt['solar_contribution'] = 100 - yearly_df_flt['wind_contribution']\n",
    "\n",
    "\n",
    "gen_frac = px.scatter(yearly_df_flt, \n",
    "           x='year', \n",
    "           y=[ 'wind_contribution', 'solar_contribution'],\n",
    "                         title='Annual Contribution of Wind and Solar Generation (%)'\n",
    "                         ).update_layout(\n",
    "                  xaxis_title='Year',\n",
    "                  yaxis_title='Energy Source Contribution (%)',\n",
    "                  legend_title='Type')\n",
    "gen_frac.show()\n",
    "#gen_frac.write_html(saving_path + \"generation_source_contribution.html\")\n"
   ]
  },
  {
   "cell_type": "markdown",
   "metadata": {},
   "source": [
    "Note:<br>\n",
    "1. Wind provided significant contributions from 2009 (100%) to 2015 (58.2%) \n",
    "compared to solar. \n",
    "2. Wind and solar had contributions within 40% to 60% from 2015 onwards with both \n",
    "contributing almost the same in 2024. "
   ]
  },
  {
   "cell_type": "code",
   "execution_count": null,
   "metadata": {},
   "outputs": [],
   "source": [
    "# 6. Plot of Generator utilisation\n",
    "\n",
    "df_flt['solar_utilisation'] = (df_flt['solar_generation']/df_flt['solar_capacity'])*100\n",
    "df_flt['wind_utilisation'] = (df_flt['wind_generation']/df_flt['wind_capacity'])*100\n",
    "\n",
    "util_plot = px.line(df_flt, x='date', y=['wind_utilisation', 'solar_utilisation'],\n",
    "                    title='Wind and Solar Utilisation'\n",
    "                    ).update_layout(\n",
    "                        xaxis_title='Year',\n",
    "                        yaxis_title='Utilisation (%)',\n",
    "                        legend_title='Type'\n",
    "                        \n",
    "                    )\n",
    "util_plot.show()\n",
    "#util_plot.write_html(saving_path + \"generation_source_contribution.html\")\n",
    "\"\"\"\n",
    "Note:\n",
    "There are instances in which wind capacity is lower than generation. \n",
    "\"\"\" \n",
    "\n"
   ]
  },
  {
   "cell_type": "code",
   "execution_count": null,
   "metadata": {},
   "outputs": [],
   "source": [
    "\n",
    "\n",
    "# ---------------------------------------------------------------------------\n",
    "trimmed_df_flt = df_flt[['date',\n",
    "                         'tsd',\n",
    "                         'solar_generation',\n",
    "                         'wind_generation',\n",
    "                         'solar_capacity',\n",
    "                         'wind_capacity']]"
   ]
  },
  {
   "cell_type": "markdown",
   "metadata": {},
   "source": [
    "df_flt['cumulative_wind_util'] = df_flt.groupby('year')['wind_utilisation'].cumsum()\n",
    "df_flt['cumulative_solar_util'] = df_flt.groupby('year')['solar_utilisation'].cumsum()"
   ]
  },
  {
   "cell_type": "markdown",
   "metadata": {},
   "source": [
    "### Save Cleaned Dataset"
   ]
  },
  {
   "cell_type": "code",
   "execution_count": null,
   "metadata": {},
   "outputs": [],
   "source": [
    "# At the end of EDA plots above we now have the dataset to conduct Featureing Engineering\n",
    "\n",
    "df_flt.to_pickle(\"../data/interim/uk_data_processed_postEDA.pkl\")"
   ]
  },
  {
   "cell_type": "code",
   "execution_count": null,
   "metadata": {},
   "outputs": [],
   "source": [
    "df_flt.columns"
   ]
  },
  {
   "cell_type": "markdown",
   "metadata": {},
   "source": [
    "----------------------------------------------------------------------\n"
   ]
  }
 ],
 "metadata": {
  "kernelspec": {
   "display_name": ".venv",
   "language": "python",
   "name": "python3"
  },
  "language_info": {
   "codemirror_mode": {
    "name": "ipython",
    "version": 3
   },
   "file_extension": ".py",
   "mimetype": "text/x-python",
   "name": "python",
   "nbconvert_exporter": "python",
   "pygments_lexer": "ipython3",
   "version": "3.9.20"
  }
 },
 "nbformat": 4,
 "nbformat_minor": 2
}
